{
  "nbformat": 4,
  "nbformat_minor": 0,
  "metadata": {
    "colab": {
      "provenance": []
    },
    "kernelspec": {
      "name": "python3",
      "display_name": "Python 3"
    },
    "language_info": {
      "name": "python"
    }
  },
  "cells": [
    {
      "cell_type": "markdown",
      "source": [
        "# 1. What are data structure, and why are they important ?\n",
        "\n",
        " answer   -    Data structures are specialized formats for organizing,       processing, and storing data. Think of them like containers—each type of container is designed to hold data in a specific way depending on how you want to access or manipulate it.\n",
        "Common examples include:\n",
        "- Arrays: A fixed-size sequence of elements stored in order.\n",
        "- Linked Lists: A chain of nodes where each node points to the next.\n",
        "- Stacks and Queues: Structures that follow specific order rules like LIFO (Last-In, First-Out) or FIFO (First-In, First-Out).\n",
        "- Trees: Hierarchical structures useful for representing relationships like family trees or file systems.\n",
        "- Graphs: Nodes connected by edges—great for networks, like social connections or routes.\n",
        "- Hash Tables: Fast-access structures using key-value pairs.\n",
        "\n",
        "# Why Are They Important?\n",
        "Data structures are crucial because they:\n",
        "- Optimize performance: The right structure can make your code faster and more efficient.\n",
        "- Enable scalability: Efficient data handling becomes essential as applications grow.\n",
        "- Simplify problem-solving: Many programming challenges can be solved more easily with the right structure.\n",
        "- Support algorithm design: Algorithms often rely on specific structures to function properly.\n",
        "\n"
      ],
      "metadata": {
        "id": "XUnf0BaqyXT9"
      }
    },
    {
      "cell_type": "markdown",
      "source": [
        "#2. Explain the difference between mutable and immutable data types with examples.\n",
        "\n",
        "answer - The difference between mutable and immutable data types lies in their ability to be modified after they are created.\n",
        "\n",
        " *1*. Mutable data types\n",
        "\n",
        "- Mutable data types are those whose values can be changed after they are created.\n",
        "- This means you can modify, add, or remove elements within the object without creating a new object.\n",
        "- Changes to mutable objects are done \"in-place,\" meaning they directly modify the existing object in memory.\n",
        "\n",
        "Examples: lists, dictionaries, sets."
      ],
      "metadata": {
        "id": "WS3G_gRi0uOL"
      }
    },
    {
      "cell_type": "code",
      "source": [
        "my_list = [1, 2, 3]\n",
        "my_list.append(4)\n",
        "print(my_list)\n",
        "\n",
        "# The original list is modified by adding a new element."
      ],
      "metadata": {
        "colab": {
          "base_uri": "https://localhost:8080/"
        },
        "id": "fr9WfQyT4Lgp",
        "outputId": "f97f200a-4f6b-4f85-9b28-9e6a52bde9e8"
      },
      "execution_count": null,
      "outputs": [
        {
          "output_type": "stream",
          "name": "stdout",
          "text": [
            "[1, 2, 3, 4]\n"
          ]
        }
      ]
    },
    {
      "cell_type": "markdown",
      "source": [
        "**2. Immutable data types**\n",
        "\n",
        "- Immutable data types are those whose values cannot be changed or altered once they are created.\n",
        "-Operations that appear to modify an immutable object actually create a new object with the modified value. The original object remains unchanged.\n",
        "-Examples include numbers (integers, floats), strings, tuples, and frozensets.\n",
        "\n",
        "Example (Python string):"
      ],
      "metadata": {
        "id": "1_WEOBnI5I5_"
      }
    },
    {
      "cell_type": "code",
      "source": [
        "my_string = \"Hello\"\n",
        "my_string = my_string + \" World\" # This creates a new string object in memory.\n",
        "print(my_string)\n",
        "\n",
        "# The original \"Hello\" string object remains unchanged."
      ],
      "metadata": {
        "colab": {
          "base_uri": "https://localhost:8080/"
        },
        "id": "PAjQ1loF64wK",
        "outputId": "fd7bc029-d297-46f5-cae6-b85f95fa9bff"
      },
      "execution_count": null,
      "outputs": [
        {
          "output_type": "stream",
          "name": "stdout",
          "text": [
            "Hello World\n"
          ]
        }
      ]
    },
    {
      "cell_type": "markdown",
      "source": [
        "# 3. What are the main differences between lists and tuples in Python?\n",
        "answer -\n",
        "Lists -\n",
        "\n",
        "-\tLists are mutable(can be modified).\n",
        "- Iteration over lists is time-consuming.\n",
        "- Lists are better for performing operations, such as insertion and deletion.\n",
        "- Lists consume more memory.\n",
        "- Lists have several built-in methods.\n",
        "- Lists are more prone to unexpected changes and errors.\n",
        "\n",
        "Tuples -\n",
        "\n",
        "- Lists are more prone to unexpected changes and errors.\n",
        "- Iterations over tuple is faster.\n",
        "- Tuples are more suitable for accessing elements efficiently.\n",
        "- Tuples consumes less memory.\n",
        "- Tuples have fewer built-in methods.\n",
        "- Tuples, being immutable are less error prone"
      ],
      "metadata": {
        "id": "VwS4kP7h7fbV"
      }
    },
    {
      "cell_type": "markdown",
      "source": [
        "# 4. Describe how dictionaries store data.\n",
        "answer - In Python, dictionaries are powerful data structures used to store data as key-value pairs. Imagine a real-life dictionary: you look up a word (the key) to find its definition (the value). Same principle!\n",
        "- Python dictionaries use a structure called a hash table to store data.\n",
        "- When a key-value pair is added:\n",
        "   - The key is passed through a hash function, which converts it into a unique hash (an integer).\n",
        "   - This hash determines where the value is stored in memory.\n",
        "\n"
      ],
      "metadata": {
        "id": "0cKnmNdLBiWO"
      }
    },
    {
      "cell_type": "markdown",
      "source": [
        "# 5.  Why might you use a set instead of a list in Python ?\n",
        "\n",
        "answer-\n",
        "- Uniqueness : Sets only store unique elements, automatically eliminating duplicates.\n",
        "- Faster Membership Testing : Sets are significantly faster when checking if an element exists in the collection, especially with large datasets.\n",
        "- Set Operations : Sets efficiently handle mathematical set operations like union, intersection, and difference.\n",
        "\n",
        "Lists are better for maintaining element order and when you need to store duplicate values"
      ],
      "metadata": {
        "id": "sxV3wumfD8Mr"
      }
    },
    {
      "cell_type": "markdown",
      "source": [
        "# 6. What is a string in Python, and how is it different from a list?\n",
        "\n",
        "answer -\n",
        " - What is a string in Python ?\n",
        "\n",
        "    A Python string is a sequence of characters (letters, numbers, symbols, etc.) enclosed in single quotes (''), double quotes (\"\"), or triple quotes (\"\"\" \"\"\"). Strings are primarily used for representing and manipulating text.\n",
        "\n",
        " - How is a string different from a list in Python?\n",
        "\n",
        "  Strings and lists are both ordered sequences that can be indexed and sliced. However, there are two key differences:\n",
        "    - Mutability: Strings are immutable, meaning you cannot change individual characters within an existing string. If you want to modify a string, you need to create a new one based on the original. Lists, on the other hand, are mutable, allowing you to add, remove, or change elements after creation.\n",
        "    - Element Types: Strings are sequences of characters. Lists are more versatile and can store items of any data type, including numbers, strings, and even other lists."
      ],
      "metadata": {
        "id": "OQ0Khu3gFvf7"
      }
    },
    {
      "cell_type": "markdown",
      "source": [
        "# 7. How do tuples ensure data integrity in Python?\n",
        " Answer - In Python, tuples are immutable, which means their content cannot be changed once created. This immutability is the foundation of how they help ensure data integrity.\n",
        "\n",
        " Characteristics :\n",
        "\n",
        "    1. Immutability\n",
        "Once a tuple is initialized, you cannot add, remove, or modify its elements. This ensures the data remains consistent throughout the program’s execution.\n",
        "\n",
        "    2. Predictable Behavior\n",
        "Immutable objects are inherently safer to use because their state remains stable. Tuples behave predictably regardless of where or how often they’re used.\n",
        "  \n",
        "    3. Safe for Sharing\n",
        "In concurrent or multi-threaded environments, mutable objects can lead to race conditions or unexpected behaviors. Tuples, being immutable, are free from such side effects, making them ideal for safe sharing between functions or threads.\n",
        "\n",
        "    4. Hashability\n",
        "Because tuples are immutable, they are hashable (if all their elements are hashable). This makes them suitable for use as keys in dictionaries, helping with fast and secure data retrieval.\n",
        "\n",
        "\n",
        "\n"
      ],
      "metadata": {
        "id": "Yrk5UjNBH3vY"
      }
    },
    {
      "cell_type": "markdown",
      "source": [
        "# 8. What is a hash table, and how does it relate to dictionaries in Python?\n",
        "Answer - A hash table is a data structure that maps keys to values using a hash function to compute an index, allowing for fast data retrieval. In Python, dictionaries (dict) are implemented as hash tables. This means that when you store a key-value pair in a dictionary, Python uses a hash function to efficiently determine where to store and retrieve the value based on its key. This implementation provides dictionaries with their characteristic speed for lookups, insertions, and deletions (averaging O(1) time complexity). Dictionary keys must be hashable (immutable) for this system to work."
      ],
      "metadata": {
        "id": "Z3vR87IPKJDH"
      }
    },
    {
      "cell_type": "markdown",
      "source": [
        "# 9. Can lists contain different data types in Python?\n",
        "Answer - Yes, lists in Python can contain elements of different data types.\n",
        "\n",
        "For example, a single list can hold integers, strings, floats, and even other lists or dictionaries."
      ],
      "metadata": {
        "id": "1IlsGVyALuyz"
      }
    },
    {
      "cell_type": "markdown",
      "source": [
        "# 10.  Explain why strings are immutable in Python.\n",
        "Answer - Strings in Python are immutable, meaning their content cannot be changed once created. Any operation that seems to modify a string actually creates a new string object with the desired changes, leaving the original string untouched. This design choice provides several benefits:\n",
        "\n",
        "    1. Data Integrity\n",
        "Immutability prevents accidental changes to string values, leading to more predictable code.\n",
        "\n",
        "    2. Hashability:\n",
        " Because their value cannot change, strings have a constant hash value, making them suitable as keys in dictionaries and elements in sets [1].\n",
        "\n",
        "    3. Memory Optimization:\n",
        " Python can sometimes optimize memory by having multiple references point to the same string object if their values are identical, which is safe because the string cannot be altered.\n",
        "\n",
        "    4. Thread Safety:\n",
        " In multi-threaded programs, immutable strings don't require locks because their values cannot be changed concurrently, simplifying thread management.\n",
        "\n",
        "\n"
      ],
      "metadata": {
        "id": "97S1OKsZMZrk"
      }
    },
    {
      "cell_type": "markdown",
      "source": [
        "# 11. What advantages do dictionaries offer over lists for certain tasks ?\n",
        "Answer - Dictionaries offer significant advantages over lists when you need to store and retrieve data associated with unique identifiers rather than numerical indices. Here's why:\n",
        "\n",
        "- Faster lookups : Accessing values by key is typically O(1), much quicker than searching through a list.\n",
        "- Key-based organization : Easily associate meaningful labels with data (e.g., \"name\": \"Asha\").\n",
        "- No need to remember index positions : You use keys instead of numeric indexes, making code more readable.\n",
        "- Ideal for structured data : Great for configurations, user profiles, or JSON-like data models.\n",
        "\n",
        "    In short: Use dictionaries when you need fast access and clear associations between data elements.\n",
        "\n"
      ],
      "metadata": {
        "id": "8iV6U4iDPVHe"
      }
    },
    {
      "cell_type": "markdown",
      "source": [
        "# 12.  Describe a scenario where using a tuple would be preferable over a list.\n",
        "Answer -\n",
        "A tuple would be preferable over a list when you need to store a fixed collection of items that should not be changed throughout the program's execution, ensuring data integrity.\n",
        "\n",
        "Example Scenario:\n",
        "\n",
        " Storing the RGB color values for a specific color (e.g., RED = (255, 0, 0)). Since the components of a color shouldn't change once defined, a tuple is a more suitable and safer choice than a list. Additionally, tuples can be used as dictionary keys, unlike lists, which is beneficial if you want to map colors to their names."
      ],
      "metadata": {
        "id": "8KyM6V66RR4s"
      }
    },
    {
      "cell_type": "code",
      "source": [
        "red = (255,0,0)"
      ],
      "metadata": {
        "id": "65MV1KtuThBR"
      },
      "execution_count": null,
      "outputs": []
    },
    {
      "cell_type": "markdown",
      "source": [
        "# 13.  How do sets handle duplicate values in Python?\n",
        "Answer - Sets in Python automatically handle duplicate values by storing only unique elements. When you add duplicate elements to a set, they are simply ignored, ensuring that each element in the set is distinct."
      ],
      "metadata": {
        "id": "W3tL5YSLUIr1"
      }
    },
    {
      "cell_type": "markdown",
      "source": [
        "# 14.  How does the “in” keyword work differently for lists and dictionaries ?\n",
        "Answer - For lists, the \"in\" keyword checks if an element exists within the list's values.\n",
        "\n",
        "For dictionaries, the \"in\" keyword checks if a key exists within the dictionary's keys.\n"
      ],
      "metadata": {
        "id": "52_0bZm5We3I"
      }
    },
    {
      "cell_type": "markdown",
      "source": [
        "# 15.  Can you modify the elements of a tuple? Explain why or why not.\n",
        "Answer - No, you cannot modify the elements of a tuple because tuples are immutable. Once a tuple is created, its contents are fixed, and you cannot change, add, or remove individual elements."
      ],
      "metadata": {
        "id": "VngcoQW2S6le"
      }
    },
    {
      "cell_type": "markdown",
      "source": [
        "# 16.  What is a nested dictionary, and give an example of its use case?\n",
        "Answer - A nested dictionary is a dictionary where the values associated with some keys are themselves other dictionaries.\n",
        "\n",
        "Example Use Case: Storing information about multiple users, where each user's data (name, age, city) is stored in a separate inner dictionary:"
      ],
      "metadata": {
        "id": "USyrqVzbXmPV"
      }
    },
    {
      "cell_type": "code",
      "source": [
        "users = {\n",
        "    'user1': {'name': 'Alice', 'age': 30, 'city': 'New York'},\n",
        "    'user2': {'name': 'Bob', 'age': 25, 'city': 'London'}\n",
        "}"
      ],
      "metadata": {
        "id": "HGNIXGeYX3zM"
      },
      "execution_count": null,
      "outputs": []
    },
    {
      "cell_type": "markdown",
      "source": [
        "# 17.  Describe the time complexity of accessing elements in a dictionary.\n",
        "Answer - The time complexity of accessing elements in a dictionary is, on average, O(1) (constant time). This is because dictionaries use hash tables, allowing for direct access to elements using their keys. In the worst-case scenario, due to hash collisions, it can be O(n) (linear time), but this is rare."
      ],
      "metadata": {
        "id": "tFbs2IBXPers"
      }
    },
    {
      "cell_type": "markdown",
      "source": [
        "# 18. In what situations are lists preferred over dictionaries?\n",
        "Answer -\n",
        "Lists are preferred over dictionaries when:\n",
        "\n",
        " - The order of elements is important.\n",
        "\n",
        " - You need to store a collection of items that are primarily accessed by their numerical index.\n",
        " - You need to allow duplicate elements.\n",
        " - The data does not naturally fit a key-value pair structure."
      ],
      "metadata": {
        "id": "nuRVo57hHnFn"
      }
    },
    {
      "cell_type": "markdown",
      "source": [
        "# 19.  Why are dictionaries considered unordered, and how does that affect data retrieval?\n",
        "Answer - Historically, dictionaries were considered unordered because their element storage order was not guaranteed and could change. While modern Python versions (3.7+) maintain insertion order, dictionaries are still conceptually unordered in terms of relying on numerical indexing. This means you cannot access elements by an integer index like you can with lists, and data retrieval relies solely on keys."
      ],
      "metadata": {
        "id": "x26jamNvMYfk"
      }
    },
    {
      "cell_type": "markdown",
      "source": [
        "# 20.  Explain the difference between a list and a dictionary in terms of data retrieval.\n",
        "\n",
        "Answer -\n",
        "\n",
        "    Lists:\n",
        "\n",
        "Data retrieval is primarily done by numerical index (e.g., my_list[0]), which represents the element's position in the sequence.\n",
        "\n",
        "    Dictionaries:\n",
        "\n",
        "Data retrieval is done by unique, hashable keys (e.g., my_dict['key']), which directly map to their associated values."
      ],
      "metadata": {
        "id": "W9JWoTgWDrfo"
      }
    },
    {
      "cell_type": "markdown",
      "source": [
        "-------------------------------------------------------"
      ],
      "metadata": {
        "id": "z4F--9ORar5Y"
      }
    },
    {
      "cell_type": "markdown",
      "source": [
        "# Practical questions"
      ],
      "metadata": {
        "id": "ZFPi2tiMz2yY"
      }
    },
    {
      "cell_type": "markdown",
      "source": [
        "# 1.  Write a code to create a string with your name and print it."
      ],
      "metadata": {
        "id": "v3y2z5dfGBD7"
      }
    },
    {
      "cell_type": "code",
      "source": [
        "  name = \"pooja\"\n",
        "  print(name)"
      ],
      "metadata": {
        "colab": {
          "base_uri": "https://localhost:8080/"
        },
        "id": "lcPQgelqbYfQ",
        "outputId": "cfa3312a-1007-4e8b-c25a-797332e2ea74"
      },
      "execution_count": null,
      "outputs": [
        {
          "output_type": "stream",
          "name": "stdout",
          "text": [
            "pooja\n"
          ]
        }
      ]
    },
    {
      "cell_type": "markdown",
      "source": [
        "# 2. Write a code to find the length of the string \"Hello World\"."
      ],
      "metadata": {
        "id": "GdzfynaGzuPL"
      }
    },
    {
      "cell_type": "code",
      "source": [
        "  text = \"Hello World\"\n",
        "  length = len(text)\n",
        "  print(length)"
      ],
      "metadata": {
        "colab": {
          "base_uri": "https://localhost:8080/"
        },
        "id": "R1_4c43Xb0Ad",
        "outputId": "46412233-26be-47ca-e1ed-971313171552"
      },
      "execution_count": null,
      "outputs": [
        {
          "output_type": "stream",
          "name": "stdout",
          "text": [
            "11\n"
          ]
        }
      ]
    },
    {
      "cell_type": "markdown",
      "source": [
        "# 3. Write a code to slice the first 3 characters from the string \"Python Programming\"."
      ],
      "metadata": {
        "id": "AyTMLsoCzg_U"
      }
    },
    {
      "cell_type": "code",
      "source": [
        "  text = \"Python Programming\"\n",
        "  sliced_text = text[:3]\n",
        "  print(sliced_text)"
      ],
      "metadata": {
        "colab": {
          "base_uri": "https://localhost:8080/"
        },
        "id": "nuv8Ed5ocpb8",
        "outputId": "fe8bde81-e996-456b-a816-68eb20ddb870"
      },
      "execution_count": null,
      "outputs": [
        {
          "output_type": "stream",
          "name": "stdout",
          "text": [
            "Pyt\n"
          ]
        }
      ]
    },
    {
      "cell_type": "markdown",
      "source": [
        "# 4.  Write a code to convert the string \"hello\" to uppercase.\n"
      ],
      "metadata": {
        "id": "FzOM4FuNdGhS"
      }
    },
    {
      "cell_type": "code",
      "source": [
        "  text = \"hello\"\n",
        "  uppercase_text = text.upper()\n",
        "  print(uppercase_text)"
      ],
      "metadata": {
        "colab": {
          "base_uri": "https://localhost:8080/"
        },
        "id": "Zuau4xmydNjB",
        "outputId": "b130ed92-9e62-42fc-80a8-f13d4119dd88"
      },
      "execution_count": null,
      "outputs": [
        {
          "output_type": "stream",
          "name": "stdout",
          "text": [
            "HELLO\n"
          ]
        }
      ]
    },
    {
      "cell_type": "markdown",
      "source": [
        "# 5. Write a code to replace the word \"apple\" with \"orange\" in the string \"I like apple\"."
      ],
      "metadata": {
        "id": "EI3xH162dclz"
      }
    },
    {
      "cell_type": "code",
      "source": [
        "  text = \"I like apple\"\n",
        "  new_text = text.replace(\"apple\", \"orange\")\n",
        "  print(new_text)"
      ],
      "metadata": {
        "colab": {
          "base_uri": "https://localhost:8080/"
        },
        "id": "_jdRMQ-CdsT_",
        "outputId": "1b81c337-62c5-4d9c-84ba-ab95c4d2f533"
      },
      "execution_count": null,
      "outputs": [
        {
          "output_type": "stream",
          "name": "stdout",
          "text": [
            "I like orange\n"
          ]
        }
      ]
    },
    {
      "cell_type": "markdown",
      "source": [
        "# 6.  Write a code to create a list with numbers 1 to 5 and print it.\n"
      ],
      "metadata": {
        "id": "Crhnobskd7aI"
      }
    },
    {
      "cell_type": "code",
      "source": [
        "  my_list = [1, 2, 3, 4, 5]\n",
        "  print(my_list)"
      ],
      "metadata": {
        "colab": {
          "base_uri": "https://localhost:8080/"
        },
        "id": "Iqcjk2MpeFL_",
        "outputId": "3ed34c22-7115-4782-94ed-a3265e14742e"
      },
      "execution_count": null,
      "outputs": [
        {
          "output_type": "stream",
          "name": "stdout",
          "text": [
            "[1, 2, 3, 4, 5]\n"
          ]
        }
      ]
    },
    {
      "cell_type": "markdown",
      "source": [
        "# 7.  Write a code to append the number 10 to the list [1, 2, 3, 4]\n"
      ],
      "metadata": {
        "id": "g9K8I34beN2H"
      }
    },
    {
      "cell_type": "code",
      "source": [
        "   my_list = [1, 2, 3, 4]\n",
        "   my_list.append(10)\n",
        "   print(my_list)"
      ],
      "metadata": {
        "colab": {
          "base_uri": "https://localhost:8080/"
        },
        "id": "ZhdP-ZAAeTrX",
        "outputId": "5d97ab51-c892-4d68-f493-0ed60a53db93"
      },
      "execution_count": null,
      "outputs": [
        {
          "output_type": "stream",
          "name": "stdout",
          "text": [
            "[1, 2, 3, 4, 10]\n"
          ]
        }
      ]
    },
    {
      "cell_type": "markdown",
      "source": [
        "# 8.  Write a code to remove the number 3 from the list [1, 2, 3, 4, 5]\n"
      ],
      "metadata": {
        "id": "M0YAWMzTejEt"
      }
    },
    {
      "cell_type": "code",
      "source": [
        "my_list = [1,2,3,4,5]\n",
        "my_list.remove(3)\n",
        "print(my_list)"
      ],
      "metadata": {
        "colab": {
          "base_uri": "https://localhost:8080/"
        },
        "id": "tScAMruBeuh0",
        "outputId": "38f4c495-b6b5-4b74-e9e2-27359bfdbbf6"
      },
      "execution_count": null,
      "outputs": [
        {
          "output_type": "stream",
          "name": "stdout",
          "text": [
            "[1, 2, 4, 5]\n"
          ]
        }
      ]
    },
    {
      "cell_type": "markdown",
      "source": [
        "# 9.  Write a code to access the second element in the list ['a', 'b', 'c', 'd']\n"
      ],
      "metadata": {
        "id": "Q3KtiIamfD1e"
      }
    },
    {
      "cell_type": "code",
      "source": [
        "my_list = ['a', 'b', 'c', 'd']\n",
        "second_element = my_list[1]\n",
        "print(second_element)"
      ],
      "metadata": {
        "colab": {
          "base_uri": "https://localhost:8080/"
        },
        "id": "qf7fx37rfKza",
        "outputId": "355f2fb2-5c96-48bb-f701-6279fd3b3252"
      },
      "execution_count": null,
      "outputs": [
        {
          "output_type": "stream",
          "name": "stdout",
          "text": [
            "b\n"
          ]
        }
      ]
    },
    {
      "cell_type": "markdown",
      "source": [
        "# 10.  Write a code to reverse the list [10, 20, 30, 40, 50].\n"
      ],
      "metadata": {
        "id": "xlz7MJ50fjzO"
      }
    },
    {
      "cell_type": "code",
      "source": [
        "my_list = [10,20,30,40,50]\n",
        "my_list.reverse()\n",
        "print(my_list)"
      ],
      "metadata": {
        "colab": {
          "base_uri": "https://localhost:8080/"
        },
        "id": "1dgGG-48fsxH",
        "outputId": "cd8c9f87-fdce-4b56-a8c2-fb8b59629883"
      },
      "execution_count": null,
      "outputs": [
        {
          "output_type": "stream",
          "name": "stdout",
          "text": [
            "[50, 40, 30, 20, 10]\n"
          ]
        }
      ]
    },
    {
      "cell_type": "markdown",
      "source": [
        "# 11. Write a code to create a tuple with the elements 100, 200, 300 and print it.\n"
      ],
      "metadata": {
        "id": "vSRH8cQIf_bk"
      }
    },
    {
      "cell_type": "code",
      "source": [
        "my_tuple = (100, 200, 300)\n",
        "print(my_tuple)"
      ],
      "metadata": {
        "colab": {
          "base_uri": "https://localhost:8080/"
        },
        "id": "R2SJDFEFga5X",
        "outputId": "107f7004-c1ea-4d72-ce55-eb5e77587f47"
      },
      "execution_count": null,
      "outputs": [
        {
          "output_type": "stream",
          "name": "stdout",
          "text": [
            "(100, 200, 300)\n"
          ]
        }
      ]
    },
    {
      "cell_type": "markdown",
      "source": [
        "# 12. Write a code to access the second-to-last element of the tuple ('red', 'green', 'blue', 'yellow')."
      ],
      "metadata": {
        "id": "6pxMCxjmgfyF"
      }
    },
    {
      "cell_type": "code",
      "source": [
        "colors = ('red', 'green', 'blue', 'yellow')\n",
        "second_to_last = colors[-2]\n",
        "print(second_to_last)"
      ],
      "metadata": {
        "colab": {
          "base_uri": "https://localhost:8080/"
        },
        "id": "8-6cD3SpgumS",
        "outputId": "c118fc06-1c30-4b60-e048-32a11dc9b628"
      },
      "execution_count": null,
      "outputs": [
        {
          "output_type": "stream",
          "name": "stdout",
          "text": [
            "blue\n"
          ]
        }
      ]
    },
    {
      "cell_type": "markdown",
      "source": [
        "# 13. Write a code to find the minimum number in the tuple (10, 20, 5, 15).\n"
      ],
      "metadata": {
        "id": "BZUJ4OTOg8kZ"
      }
    },
    {
      "cell_type": "code",
      "source": [
        "numbers = (10, 20, 5, 15)\n",
        "minimum_number = min(numbers)\n",
        "print(minimum_number)"
      ],
      "metadata": {
        "colab": {
          "base_uri": "https://localhost:8080/"
        },
        "id": "DOl67-h-hFEP",
        "outputId": "15a89864-af5d-462e-a259-7ca7052d56ed"
      },
      "execution_count": null,
      "outputs": [
        {
          "output_type": "stream",
          "name": "stdout",
          "text": [
            "5\n"
          ]
        }
      ]
    },
    {
      "cell_type": "markdown",
      "source": [
        "# 14. Write a code to find the index of the element \"cat\" in the tuple ('dog', 'cat', 'rabbit').\n"
      ],
      "metadata": {
        "id": "7Jk429cqhYLz"
      }
    },
    {
      "cell_type": "code",
      "source": [
        "animals = ('dog', 'cat', 'rabbit')\n",
        "cat_index = animals.index('cat')\n",
        "print(cat_index)"
      ],
      "metadata": {
        "colab": {
          "base_uri": "https://localhost:8080/"
        },
        "id": "9LWWphjShftK",
        "outputId": "f66bc74b-5aed-4aca-d009-9edd64399022"
      },
      "execution_count": null,
      "outputs": [
        {
          "output_type": "stream",
          "name": "stdout",
          "text": [
            "1\n"
          ]
        }
      ]
    },
    {
      "cell_type": "markdown",
      "source": [
        "# 15. Write a code to create a tuple containing three different fruits and check if \"kiwi\" is in it.\n"
      ],
      "metadata": {
        "id": "kiX3sOYFhd_y"
      }
    },
    {
      "cell_type": "code",
      "source": [
        "fruits = ('apple', 'banana', 'orange')\n",
        "is_kiwi_in_tuple = 'kiwi' in fruits\n",
        "print(is_kiwi_in_tuple)"
      ],
      "metadata": {
        "colab": {
          "base_uri": "https://localhost:8080/"
        },
        "id": "M4fVbI53h2jp",
        "outputId": "d05d09aa-11f5-401f-c432-c99deea46606"
      },
      "execution_count": null,
      "outputs": [
        {
          "output_type": "stream",
          "name": "stdout",
          "text": [
            "False\n"
          ]
        }
      ]
    },
    {
      "cell_type": "markdown",
      "source": [
        "# 16. Write a code to create a set with the elements 'a', 'b', 'c' and print it.\n"
      ],
      "metadata": {
        "id": "qBDTYgbPiHGS"
      }
    },
    {
      "cell_type": "code",
      "source": [
        "set = {'a', 'b', 'c'}\n",
        "print(set)"
      ],
      "metadata": {
        "colab": {
          "base_uri": "https://localhost:8080/"
        },
        "id": "mMNK2XeEiMon",
        "outputId": "ebb17077-fd9a-4191-ebdd-745610da9cb0"
      },
      "execution_count": null,
      "outputs": [
        {
          "output_type": "stream",
          "name": "stdout",
          "text": [
            "{'b', 'a', 'c'}\n"
          ]
        }
      ]
    },
    {
      "cell_type": "markdown",
      "source": [
        "# 17. Write a code to clear all elements from the set {1, 2, 3, 4, 5}.\n"
      ],
      "metadata": {
        "id": "23zHma1simIM"
      }
    },
    {
      "cell_type": "code",
      "source": [
        "set = {1, 2, 3, 4, 5}\n",
        "set.clear()\n",
        "print(set)"
      ],
      "metadata": {
        "colab": {
          "base_uri": "https://localhost:8080/"
        },
        "id": "EahfjyygiVhk",
        "outputId": "a34db28e-350b-461e-d12f-f2e231800174"
      },
      "execution_count": null,
      "outputs": [
        {
          "output_type": "stream",
          "name": "stdout",
          "text": [
            "set()\n"
          ]
        }
      ]
    },
    {
      "cell_type": "markdown",
      "source": [
        "# 18. Write a code to remove the element 4 from the set {1, 2, 3, 4}.\n"
      ],
      "metadata": {
        "id": "MApnZcN7jDly"
      }
    },
    {
      "cell_type": "code",
      "source": [
        "set = {1, 2, 3, 4}\n",
        "set.remove(4)\n",
        "print(set)"
      ],
      "metadata": {
        "colab": {
          "base_uri": "https://localhost:8080/"
        },
        "id": "NSaNHAJEi9Oz",
        "outputId": "5a64be4f-e53e-478d-a54c-eac16525e50a"
      },
      "execution_count": null,
      "outputs": [
        {
          "output_type": "stream",
          "name": "stdout",
          "text": [
            "{1, 2, 3}\n"
          ]
        }
      ]
    },
    {
      "cell_type": "markdown",
      "source": [
        "# 19. Write a code to find the union of two sets {1, 2, 3} and {3, 4, 5}.\n"
      ],
      "metadata": {
        "id": "YDy3t3_njN5o"
      }
    },
    {
      "cell_type": "code",
      "source": [
        "set1 =  {1, 2, 3}\n",
        "set2 = {3, 4, 5}\n",
        "union_set = set1.union(set2)\n",
        "print(union_set)"
      ],
      "metadata": {
        "colab": {
          "base_uri": "https://localhost:8080/"
        },
        "id": "gobpYph_jSma",
        "outputId": "8c69d36a-5744-4efb-c4cd-b295856b3c36"
      },
      "execution_count": null,
      "outputs": [
        {
          "output_type": "stream",
          "name": "stdout",
          "text": [
            "{1, 2, 3, 4, 5}\n"
          ]
        }
      ]
    },
    {
      "cell_type": "markdown",
      "source": [
        "# 20. Write a code to find the intersection of two sets {1, 2, 3} and {2, 3, 4}.\n"
      ],
      "metadata": {
        "id": "wwpeq8IXjm5p"
      }
    },
    {
      "cell_type": "code",
      "source": [
        "set1 = {1, 2, 3}\n",
        "set2 = {2, 3, 4}\n",
        "intersection_set = set1.intersection(set2)\n",
        "print(intersection_set)"
      ],
      "metadata": {
        "colab": {
          "base_uri": "https://localhost:8080/"
        },
        "id": "rieb2GOnj6Cv",
        "outputId": "0242cca1-ef84-49f8-d2c1-41ccdf164d29"
      },
      "execution_count": null,
      "outputs": [
        {
          "output_type": "stream",
          "name": "stdout",
          "text": [
            "{2, 3}\n"
          ]
        }
      ]
    },
    {
      "cell_type": "markdown",
      "source": [
        "# 21. Write a code to create a dictionary with the keys \"name\", \"age\", and \"city\", and print it.\n"
      ],
      "metadata": {
        "id": "YSHpCAgAkFt2"
      }
    },
    {
      "cell_type": "code",
      "source": [
        "my_dict = {'name': 'pooja', 'age': 25, 'city': 'aurangabad'}\n",
        "print(my_dict)"
      ],
      "metadata": {
        "colab": {
          "base_uri": "https://localhost:8080/"
        },
        "id": "LqEG5mkKkAfq",
        "outputId": "bf75a5a4-7c05-4b30-c8f4-a684d9ddf93c"
      },
      "execution_count": null,
      "outputs": [
        {
          "output_type": "stream",
          "name": "stdout",
          "text": [
            "{'name': 'pooja', 'age': 25, 'city': 'aurangabad'}\n"
          ]
        }
      ]
    },
    {
      "cell_type": "markdown",
      "source": [
        "# 22. Write a code to add a new key-value pair \"country\": \"USA\" to the dictionary {'name': 'John', 'age': 25}.\n"
      ],
      "metadata": {
        "id": "GsqduQpVk4vv"
      }
    },
    {
      "cell_type": "code",
      "source": [
        "my_dict = {'name': 'John', 'age': 25}\n",
        "my_dict['country'] = 'USA'\n",
        "print(my_dict)\n"
      ],
      "metadata": {
        "colab": {
          "base_uri": "https://localhost:8080/"
        },
        "id": "NgbsKyGCk-op",
        "outputId": "bb27d7fd-b70c-4d33-dc71-e3399d45c8c1"
      },
      "execution_count": null,
      "outputs": [
        {
          "output_type": "stream",
          "name": "stdout",
          "text": [
            "{'name': 'John', 'age': 25, 'country': 'USA'}\n"
          ]
        }
      ]
    },
    {
      "cell_type": "markdown",
      "source": [
        "# 23. Write a code to access the value associated with the key \"name\" in the dictionary {'name': 'Alice', 'age': 30}.\n"
      ],
      "metadata": {
        "id": "l9vGSEWNlfWr"
      }
    },
    {
      "cell_type": "code",
      "source": [
        "my_dict = {'name': 'Alice', 'age': 30}\n",
        "name_value = my_dict['name']\n",
        "print(name_value)\n"
      ],
      "metadata": {
        "colab": {
          "base_uri": "https://localhost:8080/"
        },
        "id": "YqWOjbJ9loDI",
        "outputId": "929b07e1-d183-4528-aaa8-7b70ba906465"
      },
      "execution_count": null,
      "outputs": [
        {
          "output_type": "stream",
          "name": "stdout",
          "text": [
            "Alice\n"
          ]
        }
      ]
    },
    {
      "cell_type": "markdown",
      "source": [
        "# 24. Write a code to remove the key \"age\" from the dictionary {'name': 'Bob', 'age': 22, 'city': 'New York'}.\n"
      ],
      "metadata": {
        "id": "4ZXZVQdkmSbw"
      }
    },
    {
      "cell_type": "code",
      "source": [
        "my_dict = {'name': 'Bob', 'age': 22, 'city': 'New York'}\n",
        "del my_dict['age']\n",
        "print(my_dict)\n",
        "\n",
        "#"
      ],
      "metadata": {
        "colab": {
          "base_uri": "https://localhost:8080/"
        },
        "id": "nBxybKmImPrm",
        "outputId": "a378c4b1-dade-4c44-dcae-98acd55f04e8"
      },
      "execution_count": null,
      "outputs": [
        {
          "output_type": "stream",
          "name": "stdout",
          "text": [
            "{'name': 'Bob', 'city': 'New York'}\n"
          ]
        }
      ]
    },
    {
      "cell_type": "markdown",
      "source": [
        "# 25. Write a code to check if the key \"city\" exists in the dictionary {'name': 'Alice', 'city': 'Paris'}.\n"
      ],
      "metadata": {
        "id": "IlWbMdDsmxuI"
      }
    },
    {
      "cell_type": "code",
      "source": [
        "my_list = {'name': 'Alice', 'city': 'Paris'}\n",
        "is_city_key_exists = 'city' in my_list\n",
        "print(is_city_key_exists)\n",
        "\n"
      ],
      "metadata": {
        "colab": {
          "base_uri": "https://localhost:8080/"
        },
        "id": "hrwmGV7Qn49w",
        "outputId": "556b3dbc-17ca-455c-c006-69eac38acdf1"
      },
      "execution_count": null,
      "outputs": [
        {
          "output_type": "stream",
          "name": "stdout",
          "text": [
            "True\n"
          ]
        }
      ]
    },
    {
      "cell_type": "markdown",
      "source": [
        "# 26. Write a code to create a list, a tuple, and a dictionary, and print them all.\n"
      ],
      "metadata": {
        "id": "AzDj312CoceC"
      }
    },
    {
      "cell_type": "code",
      "source": [
        "my_list = [1, 2, 3, 4, 5]\n",
        "my_tuple = (10, 20, 30, 40, 50)\n",
        "my_dict = {'name': 'Alice', 'age': 30}\n",
        "\n",
        "print(\"List:\", my_list)\n",
        "print(\"Tuple:\", my_tuple)\n",
        "print(\"Dictionary:\", my_dict)\n"
      ],
      "metadata": {
        "colab": {
          "base_uri": "https://localhost:8080/"
        },
        "id": "Erkfvfquo2XQ",
        "outputId": "f0c1b76d-b863-4ab7-8291-e81c51e8b9f3"
      },
      "execution_count": null,
      "outputs": [
        {
          "output_type": "stream",
          "name": "stdout",
          "text": [
            "List: [1, 2, 3, 4, 5]\n",
            "Tuple: (10, 20, 30, 40, 50)\n",
            "Dictionary: {'name': 'Alice', 'age': 30}\n"
          ]
        }
      ]
    },
    {
      "cell_type": "markdown",
      "source": [
        "# 27. Write a code to create a list of 5 random numbers between 1 and 100, sort it in ascending order, and print the result.(replaced)\n"
      ],
      "metadata": {
        "id": "qiTA5zk7pRK6"
      }
    },
    {
      "cell_type": "code",
      "source": [
        "numbers = random.sample(range(1, 101), 5)\n",
        "numbers.sort()\n",
        "print(\"Sorted random numbers:\", numbers)"
      ],
      "metadata": {
        "colab": {
          "base_uri": "https://localhost:8080/"
        },
        "id": "6n3bRUIKpOFi",
        "outputId": "516a9514-2856-4862-96c3-52d031531fa2"
      },
      "execution_count": null,
      "outputs": [
        {
          "output_type": "stream",
          "name": "stdout",
          "text": [
            "Sorted random numbers: [10, 57, 66, 84, 95]\n"
          ]
        }
      ]
    },
    {
      "cell_type": "markdown",
      "source": [
        "# 28. Write a code to create a list with strings and print the element at the third index.\n"
      ],
      "metadata": {
        "id": "Ki-SawoJtMCF"
      }
    },
    {
      "cell_type": "code",
      "source": [
        "my_list = ['apple', 'banana', 'cherry', 'date', 'elderberry']\n",
        "third_element = my_list[2]\n",
        "print(\"Third element:\", third_element)"
      ],
      "metadata": {
        "colab": {
          "base_uri": "https://localhost:8080/"
        },
        "id": "fXsw9AOAr05M",
        "outputId": "197e520d-7b38-435a-da66-2a8c6b9cb9b7"
      },
      "execution_count": null,
      "outputs": [
        {
          "output_type": "stream",
          "name": "stdout",
          "text": [
            "Third element: cherry\n"
          ]
        }
      ]
    },
    {
      "cell_type": "markdown",
      "source": [
        "# 29. Write a code to combine two dictionaries into one and print the result.\n"
      ],
      "metadata": {
        "id": "rdr4gX64t8ZE"
      }
    },
    {
      "cell_type": "code",
      "source": [
        "my_dict1 = {'a': 1, 'b': 2}\n",
        "my_dict2 = {'c': 3, 'd': 4}\n",
        "\n",
        "combined_dict = {**my_dict1, **my_dict2}\n",
        "print(\"Combined dictionary:\", combined_dict)"
      ],
      "metadata": {
        "colab": {
          "base_uri": "https://localhost:8080/"
        },
        "id": "JrSFeKXk7lml",
        "outputId": "f83ef8d8-4651-4d32-d3b2-7eda53679771"
      },
      "execution_count": 1,
      "outputs": [
        {
          "output_type": "stream",
          "name": "stdout",
          "text": [
            "Combined dictionary: {'a': 1, 'b': 2, 'c': 3, 'd': 4}\n"
          ]
        }
      ]
    },
    {
      "cell_type": "markdown",
      "source": [
        "# 30. Write a code to convert a list of strings into a set.\n"
      ],
      "metadata": {
        "id": "ljeW4-nZuQLD"
      }
    },
    {
      "cell_type": "code",
      "source": [
        "# Sample list of strings\n",
        "string_list = [\"apple\", \"banana\", \"orange\", \"apple\", \"grape\", \"banana\"]\n",
        "\n",
        "# Convert the list to a set\n",
        "unique_strings = set(string_list) # Changed 'set' to 'unique_strings'\n",
        "\n",
        "# Print the result\n",
        "print(\"Original list:\", string_list)\n",
        "print(\"Converted set:\", unique_strings)"
      ],
      "metadata": {
        "colab": {
          "base_uri": "https://localhost:8080/"
        },
        "id": "RiHE5gtXtl2o",
        "outputId": "311b58e8-4af7-4d0b-9102-895f2026d0f2"
      },
      "execution_count": null,
      "outputs": [
        {
          "output_type": "stream",
          "name": "stdout",
          "text": [
            "Original list: ['apple', 'banana', 'orange', 'apple', 'grape', 'banana']\n",
            "Converted set: {'grape', 'apple', 'orange', 'banana'}\n"
          ]
        }
      ]
    }
  ]
}